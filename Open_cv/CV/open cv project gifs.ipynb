{
 "cells": [
  {
   "cell_type": "code",
   "execution_count": 1,
   "id": "c6fb1824",
   "metadata": {},
   "outputs": [],
   "source": [
    "import cv2\n",
    "import numpy as np"
   ]
  },
  {
   "cell_type": "code",
   "execution_count": 2,
   "id": "ff942158",
   "metadata": {},
   "outputs": [],
   "source": [
    "img1=np.zeros((250,250,3),np.uint8)"
   ]
  },
  {
   "cell_type": "code",
   "execution_count": 3,
   "id": "f2e1691f",
   "metadata": {},
   "outputs": [],
   "source": [
    "cv2.imshow(\"gif \",img1)\n",
    "cv2.waitKey()\n",
    "cv2.destroyAllWindows()"
   ]
  },
  {
   "cell_type": "code",
   "execution_count": 4,
   "id": "a81772e8",
   "metadata": {},
   "outputs": [],
   "source": [
    "# 1 st image \n",
    "edited_img=cv2.circle(img1,(90,80),2,(250,250,250),2) # ears l inner\n",
    "edited_img=cv2.circle(img1,(160,80),2,(250,250,250),2)# ears r inner\n",
    "edited_img=cv2.circle(img1,(90,80),5,(0,250,0),2) # ears l outter\n",
    "edited_img=cv2.circle(img1,(160,80),5,(0,250,0),2) # ears r outter\n",
    "\n",
    "edited_img=cv2.circle(img1,(100,110),2,(0,0,250),1) # eye l inner\n",
    "edited_img=cv2.circle(img1,(150,110),2,(0,0,250),1)# eye r inner\n",
    "edited_img=cv2.circle(img1,(100,110),5,(0,250,0),2) # eye l outter\n",
    "edited_img=cv2.circle(img1,(150,110),5,(0,250,0),2) # eye r outter\n",
    "\n",
    "edited_img=cv2.line(img1,(95,110),(75,90),(89,200,89),2) # glasses l outter\n",
    "edited_img=cv2.line(img1,(155,110),(175,90),(89,200,89),2) # glasses r outter\n",
    "\n",
    "edited_img=cv2.line(img1,(105,110),(145,110),(5,14,96),2) # glasses frame r outter\n",
    "\n",
    "\n",
    "\n",
    "\n",
    "\n",
    "edited_img=cv2.line(img1,(125,120),(125,130),(150,250,200),2) # noise\n",
    "edited_img=cv2.line(img1,(115,145),(135,145),(200,98,0),2) # mouth\n",
    "#edited_img=cv2.line(img1,(115,145),(100,160),(250,250,250),2) # mouth cigar\n",
    "\n",
    "edited_img=cv2.circle(img1,(125,125),50,(89,190,250),2) # circle \n",
    "edited_img=cv2.line(img1,(125,175),(125,215),(74,51,255),2) # body \n",
    "edited_img=cv2.line(img1,(125,175),(100,195),(74,51,0),2) # l hand\n",
    "edited_img=cv2.line(img1,(125,175),(145,195),(74,51,0),2) # r hand\n",
    "\n",
    "edited_img=cv2.line(img1,(125,215),(100,245),(0,51,0),2) # l leg\n",
    "edited_img=cv2.line(img1,(125,215),(145,245),(0,51,0),2) # r leg\n"
   ]
  },
  {
   "cell_type": "code",
   "execution_count": 5,
   "id": "dba8ace3",
   "metadata": {},
   "outputs": [],
   "source": [
    "cv2.imshow(\"gif \",edited_img)\n",
    "cv2.waitKey()\n",
    "cv2.destroyAllWindows()"
   ]
  },
  {
   "cell_type": "code",
   "execution_count": 6,
   "id": "a6677b05",
   "metadata": {},
   "outputs": [],
   "source": [
    "# coordinates \n",
    "def draw(event,x,y,flags,param):\n",
    "    if event==cv2.EVENT_FLAG_LBUTTON:\n",
    "        cv2.circle(img1,(x,y),2,(250,100,0),-1)\n",
    "        cv2.putText(img1,\"{},{}\".format(x,y),(x+20,y+30),cv2.FONT_ITALIC,1,(255,0,0,),0)\n",
    "        cv2.imshow(\"img\",img1)\n",
    "        \n",
    "    elif event ==cv2.EVENT_FLAG_RBUTTON:\n",
    "        cv2.rectangle(img,(x,y),(x+10,y+100),(255,12,0),-1)\n",
    "        cv2.imshow(\"img\",img1)"
   ]
  },
  {
   "cell_type": "code",
   "execution_count": 7,
   "id": "70abe4b1",
   "metadata": {},
   "outputs": [],
   "source": [
    "cv2.namedWindow(\"img\",cv2.WINDOW_NORMAL)\n",
    "cv2.setMouseCallback(\"img\",draw)\n",
    "cv2.imshow(\"img\",img1)\n",
    "cv2.waitKey()\n",
    "cv2.destroyAllWindows()"
   ]
  },
  {
   "cell_type": "code",
   "execution_count": 4,
   "id": "33295c8a",
   "metadata": {},
   "outputs": [],
   "source": [
    "# create own gifs\n",
    "count=1\n",
    "while True:\n",
    "    imgf = cv2.imread(r\"C:\\Users\\HAREESH\\Downloads\\DL\\DL assignments\\gifs\\i{}.jpg\".format(count))\n",
    "    cv2.imshow(\"gifs\",imgf)\n",
    "    if cv2.waitKey(1000) & 255==ord(\"q\"):\n",
    "        break\n",
    "        \n",
    "    count=count+1\n",
    "    if count==4:\n",
    "        count=1\n",
    "        \n",
    "cv2.destroyAllWindows()"
   ]
  },
  {
   "cell_type": "code",
   "execution_count": 7,
   "id": "95faea01",
   "metadata": {},
   "outputs": [],
   "source": [
    "# reading images\n",
    "img= cv2.imread(r\"C:\\Users\\HAREESH\\Downloads\\flowers.jpeg\")"
   ]
  },
  {
   "cell_type": "code",
   "execution_count": 8,
   "id": "4a4d70c6",
   "metadata": {},
   "outputs": [
    {
     "ename": "error",
     "evalue": "OpenCV(4.8.1) D:\\a\\opencv-python\\opencv-python\\opencv\\modules\\highgui\\src\\window.cpp:971: error: (-215:Assertion failed) size.width>0 && size.height>0 in function 'cv::imshow'\n",
     "output_type": "error",
     "traceback": [
      "\u001b[1;31m---------------------------------------------------------------------------\u001b[0m",
      "\u001b[1;31merror\u001b[0m                                     Traceback (most recent call last)",
      "\u001b[1;32m~\\AppData\\Local\\Temp\\ipykernel_1724\\4094504404.py\u001b[0m in \u001b[0;36m<module>\u001b[1;34m\u001b[0m\n\u001b[1;32m----> 1\u001b[1;33m \u001b[0mcv2\u001b[0m\u001b[1;33m.\u001b[0m\u001b[0mimshow\u001b[0m\u001b[1;33m(\u001b[0m\u001b[1;34m\"img\"\u001b[0m\u001b[1;33m,\u001b[0m\u001b[0mimg\u001b[0m\u001b[1;33m)\u001b[0m\u001b[1;33m\u001b[0m\u001b[1;33m\u001b[0m\u001b[0m\n\u001b[0m\u001b[0;32m      2\u001b[0m \u001b[0mcv2\u001b[0m\u001b[1;33m.\u001b[0m\u001b[0mwaitKey\u001b[0m\u001b[1;33m(\u001b[0m\u001b[1;36m4\u001b[0m\u001b[1;33m)\u001b[0m\u001b[1;33m\u001b[0m\u001b[1;33m\u001b[0m\u001b[0m\n\u001b[0;32m      3\u001b[0m \u001b[0mcv2\u001b[0m\u001b[1;33m.\u001b[0m\u001b[0mdestroyAllWindows\u001b[0m\u001b[1;33m(\u001b[0m\u001b[1;33m)\u001b[0m\u001b[1;33m\u001b[0m\u001b[1;33m\u001b[0m\u001b[0m\n",
      "\u001b[1;31merror\u001b[0m: OpenCV(4.8.1) D:\\a\\opencv-python\\opencv-python\\opencv\\modules\\highgui\\src\\window.cpp:971: error: (-215:Assertion failed) size.width>0 && size.height>0 in function 'cv::imshow'\n"
     ]
    }
   ],
   "source": [
    "cv2.imshow(\"img\",img)\n",
    "cv2.waitKey(4)\n",
    "cv2.destroyAllWindows()"
   ]
  },
  {
   "cell_type": "code",
   "execution_count": null,
   "id": "1f87c636",
   "metadata": {},
   "outputs": [],
   "source": []
  }
 ],
 "metadata": {
  "kernelspec": {
   "display_name": "Python 3 (ipykernel)",
   "language": "python",
   "name": "python3"
  },
  "language_info": {
   "codemirror_mode": {
    "name": "ipython",
    "version": 3
   },
   "file_extension": ".py",
   "mimetype": "text/x-python",
   "name": "python",
   "nbconvert_exporter": "python",
   "pygments_lexer": "ipython3",
   "version": "3.9.13"
  }
 },
 "nbformat": 4,
 "nbformat_minor": 5
}
