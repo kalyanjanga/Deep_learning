{
 "cells": [
  {
   "cell_type": "code",
   "execution_count": 1,
   "id": "61877711",
   "metadata": {},
   "outputs": [],
   "source": [
    "import tensorflow\n",
    "import keras\n",
    "from keras.models import Sequential\n",
    "from keras.layers import Dense,Input,Flatten,Conv2D,AveragePooling2D\n",
    "from keras.datasets import mnist\n",
    "from keras.callbacks import EarlyStopping,ModelCheckpoint,CSVLogger,TensorBoard"
   ]
  },
  {
   "cell_type": "code",
   "execution_count": 2,
   "id": "b413a2d7",
   "metadata": {},
   "outputs": [],
   "source": [
    "(x_train,y_train),(x_test,y_test) = mnist.load_data()"
   ]
  },
  {
   "cell_type": "code",
   "execution_count": 3,
   "id": "cbdee3da",
   "metadata": {},
   "outputs": [
    {
     "data": {
      "text/plain": [
       "(60000, 28, 28)"
      ]
     },
     "execution_count": 3,
     "metadata": {},
     "output_type": "execute_result"
    }
   ],
   "source": [
    "x_train.shape"
   ]
  },
  {
   "cell_type": "code",
   "execution_count": 4,
   "id": "2d7df609",
   "metadata": {},
   "outputs": [
    {
     "data": {
      "text/plain": [
       "(10000, 28, 28)"
      ]
     },
     "execution_count": 4,
     "metadata": {},
     "output_type": "execute_result"
    }
   ],
   "source": [
    "x_test.shape"
   ]
  },
  {
   "cell_type": "code",
   "execution_count": 5,
   "id": "bf0910e3",
   "metadata": {},
   "outputs": [],
   "source": [
    "x_trainp = x_train/255\n",
    "x_testp = x_test/255"
   ]
  },
  {
   "cell_type": "code",
   "execution_count": 6,
   "id": "82af74b9",
   "metadata": {},
   "outputs": [],
   "source": [
    "# cnn  logical structure\n",
    "model=Sequential()\n",
    "model.add(Input(shape =(28,28,1)))\n",
    "model.add(Conv2D(6,(5,5),strides=(1,1),padding=\"valid\",activation=\"tanh\"))\n",
    "model.add(AveragePooling2D(pool_size=(2,2),strides=(1,1)))  # 1st layer 5*5*10\n",
    "\n",
    "model.add(Conv2D(16,(5,5),strides=(1,1),padding=\"valid\",activation=\"tanh\"))\n",
    "model.add(AveragePooling2D(pool_size=(2,2),strides=(1,1))) # 2nd layer  5*5*30\n",
    "\n",
    "model.add(Flatten())\n",
    "# Ann  logical structure\n",
    "model.add(Dense(120,activation=\"tanh\"))\n",
    "model.add(Dense(84,activation=\"tanh\"))\n",
    "model.add(Dense(10,activation=\"softmax\"))"
   ]
  },
  {
   "cell_type": "code",
   "execution_count": 7,
   "id": "e5951c22",
   "metadata": {},
   "outputs": [
    {
     "name": "stdout",
     "output_type": "stream",
     "text": [
      "Model: \"sequential\"\n",
      "_________________________________________________________________\n",
      " Layer (type)                Output Shape              Param #   \n",
      "=================================================================\n",
      " conv2d (Conv2D)             (None, 24, 24, 6)         156       \n",
      "                                                                 \n",
      " average_pooling2d (Average  (None, 23, 23, 6)         0         \n",
      " Pooling2D)                                                      \n",
      "                                                                 \n",
      " conv2d_1 (Conv2D)           (None, 19, 19, 16)        2416      \n",
      "                                                                 \n",
      " average_pooling2d_1 (Avera  (None, 18, 18, 16)        0         \n",
      " gePooling2D)                                                    \n",
      "                                                                 \n",
      " flatten (Flatten)           (None, 5184)              0         \n",
      "                                                                 \n",
      " dense (Dense)               (None, 120)               622200    \n",
      "                                                                 \n",
      " dense_1 (Dense)             (None, 84)                10164     \n",
      "                                                                 \n",
      " dense_2 (Dense)             (None, 10)                850       \n",
      "                                                                 \n",
      "=================================================================\n",
      "Total params: 635786 (2.43 MB)\n",
      "Trainable params: 635786 (2.43 MB)\n",
      "Non-trainable params: 0 (0.00 Byte)\n",
      "_________________________________________________________________\n"
     ]
    }
   ],
   "source": [
    "model.summary()"
   ]
  },
  {
   "cell_type": "code",
   "execution_count": 8,
   "id": "f8bebce1",
   "metadata": {},
   "outputs": [],
   "source": [
    "model.compile(loss=\"sparse_categorical_crossentropy\",optimizer =\"sgd\",metrics=['accuracy'])"
   ]
  },
  {
   "cell_type": "code",
   "execution_count": 9,
   "id": "6956f727",
   "metadata": {},
   "outputs": [],
   "source": [
    "early = EarlyStopping(monitor='val_loss',min_delta=0.01,patience=3,verbose=1,start_from_epoch=3)"
   ]
  },
  {
   "cell_type": "code",
   "execution_count": 12,
   "id": "feab8eb5",
   "metadata": {},
   "outputs": [],
   "source": [
    "\n",
    "check_point = ModelCheckpoint(r\"C:\\Users\\Dell\\Documents\\Deep_Learning\\Model_saving cnn\\model_save{epoch}.h5\", monitor='val_loss',verbose=1, save_best_only=True)"
   ]
  },
  {
   "cell_type": "code",
   "execution_count": 13,
   "id": "dd2b7a22",
   "metadata": {},
   "outputs": [],
   "source": [
    "csv = CSVLogger(r\"C:\\Users\\Dell\\Documents\\Deep_Learning\\Model_saving cnnlog.csv\")"
   ]
  },
  {
   "cell_type": "code",
   "execution_count": 14,
   "id": "87fa2675",
   "metadata": {},
   "outputs": [],
   "source": [
    "tensor = TensorBoard(log_dir=r\"C:\\Users\\Dell\\Documents\\Deep_Learning\\Model_saving cnn\\Tensorboard\\logdir\",histogram_freq=1)"
   ]
  },
  {
   "cell_type": "code",
   "execution_count": 15,
   "id": "cdfa19b8",
   "metadata": {},
   "outputs": [
    {
     "name": "stdout",
     "output_type": "stream",
     "text": [
      "Epoch 1/100\n",
      "1594/1594 [==============================] - ETA: 0s - loss: 0.3917 - accuracy: 0.8918\n",
      "Epoch 1: val_loss improved from inf to 0.19019, saving model to C:\\Users\\Dell\\Documents\\Deep_Learning\\Model_saving cnn\\model_save1.h5\n"
     ]
    },
    {
     "name": "stderr",
     "output_type": "stream",
     "text": [
      "C:\\Users\\Dell\\anaconda3\\lib\\site-packages\\keras\\src\\engine\\training.py:3079: UserWarning: You are saving your model as an HDF5 file via `model.save()`. This file format is considered legacy. We recommend using instead the native Keras format, e.g. `model.save('my_model.keras')`.\n",
      "  saving_api.save_model(\n"
     ]
    },
    {
     "name": "stdout",
     "output_type": "stream",
     "text": [
      "1594/1594 [==============================] - 38s 23ms/step - loss: 0.3917 - accuracy: 0.8918 - val_loss: 0.1902 - val_accuracy: 0.9488\n",
      "Epoch 2/100\n",
      "1593/1594 [============================>.] - ETA: 0s - loss: 0.1740 - accuracy: 0.9509\n",
      "Epoch 2: val_loss improved from 0.19019 to 0.12842, saving model to C:\\Users\\Dell\\Documents\\Deep_Learning\\Model_saving cnn\\model_save2.h5\n",
      "1594/1594 [==============================] - 38s 24ms/step - loss: 0.1740 - accuracy: 0.9508 - val_loss: 0.1284 - val_accuracy: 0.9647\n",
      "Epoch 3/100\n",
      "1594/1594 [==============================] - ETA: 0s - loss: 0.1218 - accuracy: 0.9665\n",
      "Epoch 3: val_loss improved from 0.12842 to 0.09948, saving model to C:\\Users\\Dell\\Documents\\Deep_Learning\\Model_saving cnn\\model_save3.h5\n",
      "1594/1594 [==============================] - 38s 24ms/step - loss: 0.1218 - accuracy: 0.9665 - val_loss: 0.0995 - val_accuracy: 0.9743\n",
      "Epoch 4/100\n",
      "1593/1594 [============================>.] - ETA: 0s - loss: 0.0929 - accuracy: 0.9743\n",
      "Epoch 4: val_loss improved from 0.09948 to 0.08381, saving model to C:\\Users\\Dell\\Documents\\Deep_Learning\\Model_saving cnn\\model_save4.h5\n",
      "1594/1594 [==============================] - 39s 25ms/step - loss: 0.0928 - accuracy: 0.9743 - val_loss: 0.0838 - val_accuracy: 0.9774\n",
      "Epoch 5/100\n",
      "1594/1594 [==============================] - ETA: 0s - loss: 0.0750 - accuracy: 0.9798\n",
      "Epoch 5: val_loss improved from 0.08381 to 0.07453, saving model to C:\\Users\\Dell\\Documents\\Deep_Learning\\Model_saving cnn\\model_save5.h5\n",
      "1594/1594 [==============================] - 38s 24ms/step - loss: 0.0750 - accuracy: 0.9798 - val_loss: 0.0745 - val_accuracy: 0.9799\n",
      "Epoch 6/100\n",
      "1592/1594 [============================>.] - ETA: 0s - loss: 0.0628 - accuracy: 0.9827\n",
      "Epoch 6: val_loss improved from 0.07453 to 0.07068, saving model to C:\\Users\\Dell\\Documents\\Deep_Learning\\Model_saving cnn\\model_save6.h5\n",
      "1594/1594 [==============================] - 39s 24ms/step - loss: 0.0627 - accuracy: 0.9827 - val_loss: 0.0707 - val_accuracy: 0.9823\n",
      "Epoch 7/100\n",
      "1593/1594 [============================>.] - ETA: 0s - loss: 0.0532 - accuracy: 0.9854\n",
      "Epoch 7: val_loss improved from 0.07068 to 0.06538, saving model to C:\\Users\\Dell\\Documents\\Deep_Learning\\Model_saving cnn\\model_save7.h5\n",
      "1594/1594 [==============================] - 39s 24ms/step - loss: 0.0532 - accuracy: 0.9854 - val_loss: 0.0654 - val_accuracy: 0.9830\n",
      "Epoch 8/100\n",
      "1593/1594 [============================>.] - ETA: 0s - loss: 0.0462 - accuracy: 0.9873\n",
      "Epoch 8: val_loss improved from 0.06538 to 0.06100, saving model to C:\\Users\\Dell\\Documents\\Deep_Learning\\Model_saving cnn\\model_save8.h5\n",
      "1594/1594 [==============================] - 39s 25ms/step - loss: 0.0462 - accuracy: 0.9874 - val_loss: 0.0610 - val_accuracy: 0.9839\n",
      "Epoch 9/100\n",
      "1593/1594 [============================>.] - ETA: 0s - loss: 0.0404 - accuracy: 0.9891\n",
      "Epoch 9: val_loss improved from 0.06100 to 0.05934, saving model to C:\\Users\\Dell\\Documents\\Deep_Learning\\Model_saving cnn\\model_save9.h5\n",
      "1594/1594 [==============================] - 39s 24ms/step - loss: 0.0404 - accuracy: 0.9891 - val_loss: 0.0593 - val_accuracy: 0.9841\n",
      "Epoch 10/100\n",
      "1594/1594 [==============================] - ETA: 0s - loss: 0.0355 - accuracy: 0.9906\n",
      "Epoch 10: val_loss improved from 0.05934 to 0.05795, saving model to C:\\Users\\Dell\\Documents\\Deep_Learning\\Model_saving cnn\\model_save10.h5\n",
      "1594/1594 [==============================] - 39s 24ms/step - loss: 0.0355 - accuracy: 0.9906 - val_loss: 0.0580 - val_accuracy: 0.9839\n",
      "Epoch 11/100\n",
      "1592/1594 [============================>.] - ETA: 0s - loss: 0.0318 - accuracy: 0.9921\n",
      "Epoch 11: val_loss improved from 0.05795 to 0.05524, saving model to C:\\Users\\Dell\\Documents\\Deep_Learning\\Model_saving cnn\\model_save11.h5\n",
      "1594/1594 [==============================] - 41s 25ms/step - loss: 0.0318 - accuracy: 0.9921 - val_loss: 0.0552 - val_accuracy: 0.9850\n",
      "Epoch 12/100\n",
      "1593/1594 [============================>.] - ETA: 0s - loss: 0.0281 - accuracy: 0.9933\n",
      "Epoch 12: val_loss did not improve from 0.05524\n",
      "1594/1594 [==============================] - 41s 26ms/step - loss: 0.0281 - accuracy: 0.9933 - val_loss: 0.0557 - val_accuracy: 0.9849\n",
      "Epoch 12: early stopping\n"
     ]
    }
   ],
   "source": [
    "hist = model.fit(x_trainp,y_train,epochs=100,validation_split=0.15,callbacks=[early,check_point,csv,tensor])"
   ]
  },
  {
   "cell_type": "code",
   "execution_count": 16,
   "id": "16cfd815",
   "metadata": {},
   "outputs": [
    {
     "data": {
      "text/html": [
       "\n",
       "      <iframe id=\"tensorboard-frame-c3692f97f96ae274\" width=\"100%\" height=\"800\" frameborder=\"0\">\n",
       "      </iframe>\n",
       "      <script>\n",
       "        (function() {\n",
       "          const frame = document.getElementById(\"tensorboard-frame-c3692f97f96ae274\");\n",
       "          const url = new URL(\"/\", window.location);\n",
       "          const port = 6006;\n",
       "          if (port) {\n",
       "            url.port = port;\n",
       "          }\n",
       "          frame.src = url;\n",
       "        })();\n",
       "      </script>\n",
       "    "
      ],
      "text/plain": [
       "<IPython.core.display.HTML object>"
      ]
     },
     "metadata": {},
     "output_type": "display_data"
    }
   ],
   "source": [
    "%load_ext tensorboard\n",
    "%tensorboard --logdir \"C:\\\\Users\\Dell\\\\Documents\\\\Deep_Learning\\\\Model_saving cnn\\\\Tensorboard\\\\logdir\""
   ]
  },
  {
   "cell_type": "code",
   "execution_count": 17,
   "id": "395f7bbb",
   "metadata": {},
   "outputs": [
    {
     "data": {
      "text/plain": [
       "[0.3916579484939575,\n",
       " 0.174038827419281,\n",
       " 0.12179149687290192,\n",
       " 0.09284764528274536,\n",
       " 0.07497724890708923,\n",
       " 0.06272152811288834,\n",
       " 0.053161852061748505,\n",
       " 0.04616129398345947,\n",
       " 0.04041856527328491,\n",
       " 0.03554556518793106,\n",
       " 0.031805336475372314,\n",
       " 0.028109349310398102]"
      ]
     },
     "execution_count": 17,
     "metadata": {},
     "output_type": "execute_result"
    }
   ],
   "source": [
    "hist.history['loss']"
   ]
  },
  {
   "cell_type": "code",
   "execution_count": null,
   "id": "c2b40964",
   "metadata": {},
   "outputs": [],
   "source": []
  }
 ],
 "metadata": {
  "kernelspec": {
   "display_name": "Python 3 (ipykernel)",
   "language": "python",
   "name": "python3"
  },
  "language_info": {
   "codemirror_mode": {
    "name": "ipython",
    "version": 3
   },
   "file_extension": ".py",
   "mimetype": "text/x-python",
   "name": "python",
   "nbconvert_exporter": "python",
   "pygments_lexer": "ipython3",
   "version": "3.10.9"
  }
 },
 "nbformat": 4,
 "nbformat_minor": 5
}
