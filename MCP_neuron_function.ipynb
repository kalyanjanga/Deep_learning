{
  "nbformat": 4,
  "nbformat_minor": 0,
  "metadata": {
    "colab": {
      "provenance": []
    },
    "kernelspec": {
      "name": "python3",
      "display_name": "Python 3"
    },
    "language_info": {
      "name": "python"
    }
  },
  "cells": [
    {
      "cell_type": "markdown",
      "source": [
        "##  TASK: create mcp neuron (functions or classes)\n",
        "\n",
        "- Here your activation function should be `and`,`or` and your inputs can be in     \n",
        "  n-dimensional\n",
        "\n",
        "- Your function should work for both and as well as for or\n"
      ],
      "metadata": {
        "id": "E47ErTEokQNt"
      }
    },
    {
      "cell_type": "code",
      "source": [
        "def mcp_neuron(inputs_features,activate_func):\n",
        "  if any(x not in (0,1) for x in inputs_features ):\n",
        "    raise(\"enter proper functions either AND nor OR \")\n",
        "\n",
        "  if activate_func == \"AND\":\n",
        "    return int(all(inputs_features))\n",
        "\n",
        "  elif activate_func ==\"OR\":\n",
        "    return int(all(inputs_features))\n",
        "\n",
        "  else:\n",
        "    print(\"Enter proper functions(AND,OR)\")\n",
        "\n",
        "\n",
        "inputs_features = input('enter elements in binary format and seperated by \",\"',)\n",
        "inputs_features = list(int(x) for x in inputs_features.split(','))\n",
        "print(inputs_features)\n",
        "print('AND_function :', mcp_neuron(inputs_features, 'AND'))\n",
        "print('OR_function :', mcp_neuron(inputs_features, 'OR'))\n"
      ],
      "metadata": {
        "colab": {
          "base_uri": "https://localhost:8080/"
        },
        "id": "Lyn8MHVhklBi",
        "outputId": "5f091ac9-e18d-4dcd-9301-6cc67487bbb5"
      },
      "execution_count": 10,
      "outputs": [
        {
          "output_type": "stream",
          "name": "stdout",
          "text": [
            "enter elements in binary format and seperated by \",\"1,1,1,0\n",
            "[1, 1, 1, 0]\n",
            "AND_function : 0\n",
            "OR_function : 0\n"
          ]
        }
      ]
    },
    {
      "cell_type": "code",
      "source": [
        "mcp_neuron([1,1,1,1],\"OR\")"
      ],
      "metadata": {
        "colab": {
          "base_uri": "https://localhost:8080/"
        },
        "id": "y9RRgvqzpFah",
        "outputId": "91c8c49a-2536-4d53-a1fb-a5d413f65633"
      },
      "execution_count": 11,
      "outputs": [
        {
          "output_type": "execute_result",
          "data": {
            "text/plain": [
              "1"
            ]
          },
          "metadata": {},
          "execution_count": 11
        }
      ]
    },
    {
      "cell_type": "code",
      "source": [
        "mcp_neuron([1,1,1,1],\"AND\")"
      ],
      "metadata": {
        "colab": {
          "base_uri": "https://localhost:8080/"
        },
        "id": "JlilgJvBpn-G",
        "outputId": "af4ca519-d88d-4141-e136-23b223a4e9c1"
      },
      "execution_count": 6,
      "outputs": [
        {
          "output_type": "execute_result",
          "data": {
            "text/plain": [
              "1"
            ]
          },
          "metadata": {},
          "execution_count": 6
        }
      ]
    },
    {
      "cell_type": "code",
      "source": [
        "mcp_neuron([1,1,1,0],\"AND\")"
      ],
      "metadata": {
        "colab": {
          "base_uri": "https://localhost:8080/"
        },
        "id": "SzddouuSpw9o",
        "outputId": "b3c61cfc-81ca-42e3-ac64-29d89dd3d547"
      },
      "execution_count": 7,
      "outputs": [
        {
          "output_type": "execute_result",
          "data": {
            "text/plain": [
              "0"
            ]
          },
          "metadata": {},
          "execution_count": 7
        }
      ]
    },
    {
      "cell_type": "code",
      "source": [],
      "metadata": {
        "id": "Y4fr8cu_p1ky"
      },
      "execution_count": null,
      "outputs": []
    }
  ]
}